{
 "cells": [
  {
   "cell_type": "code",
   "execution_count": 1,
   "id": "2e6fd825",
   "metadata": {},
   "outputs": [],
   "source": [
    "from bs4 import BeautifulSoup as bs\n",
    "import pandas as pd\n",
    "import requests\n",
    "import numpy as np\n",
    "import time\n",
    "import re\n",
    "import json"
   ]
  },
  {
   "cell_type": "code",
   "execution_count": 2,
   "id": "a95c3936-fc55-4672-a94f-39ad29912a27",
   "metadata": {},
   "outputs": [],
   "source": [
    "# information = soup1.select(\"td div .spaceit_pad\")\n",
    "# get the list of all the data that is on the left float of the website\n",
    "\n",
    "def dataFormatter(soup):\n",
    "    information = soup.select(\"td div .spaceit_pad\")\n",
    "    side_info_par = []\n",
    "    for info in information:\n",
    "        side_info_par.append(info.text.split())\n",
    "    return side_info_par"
   ]
  },
  {
   "cell_type": "code",
   "execution_count": 3,
   "id": "b725a495-bf5b-4400-a8f7-e67b923ed9a3",
   "metadata": {},
   "outputs": [],
   "source": [
    "# get number of people who favorited the anime\n",
    "# information is gotten from data_formatter\n",
    "\n",
    "def getFavorite(information):\n",
    "    for info in information:\n",
    "        if info[0] == \"Favorites:\":\n",
    "            data = info[1].split(\",\")\n",
    "            return int(\"\".join(data))\n",
    "    return None"
   ]
  },
  {
   "cell_type": "code",
   "execution_count": 27,
   "id": "09d97b4e-2152-47bf-a778-889eb5353cb3",
   "metadata": {},
   "outputs": [],
   "source": [
    "# get episode number\n",
    "# information is gotten from data_formatter\n",
    "\n",
    "def episodeNumberParser(information):\n",
    "    for info in information:\n",
    "        if (info[0] == \"Episodes:\"):\n",
    "            if info[1] != \"Unknown\":\n",
    "                return int(info[1])\n",
    "            return None\n",
    "    return None"
   ]
  },
  {
   "cell_type": "code",
   "execution_count": 5,
   "id": "2bd0b9cc-272a-4215-9e9c-05fbc03bfd0b",
   "metadata": {
    "tags": []
   },
   "outputs": [],
   "source": [
    "# get the type of the anime TV or other things\n",
    "# information is gotten from data_formatter\n",
    "\n",
    "def typeParser(information):\n",
    "    for info in information:\n",
    "        if (info[0] == \"Type:\"):\n",
    "            return info[1]\n",
    "    return None"
   ]
  },
  {
   "cell_type": "code",
   "execution_count": 6,
   "id": "c5032997-cf70-4070-b15e-d977d55fed46",
   "metadata": {},
   "outputs": [],
   "source": [
    "# information is gotten from data_formatter\n",
    "# get the day the anime premiered\n",
    "\n",
    "def dayPremired(information):\n",
    "    for info in information:\n",
    "        if (info[0] == \"Premiered:\"):\n",
    "            premired_day = \"\"\n",
    "            return \" \".join(info[1:])\n",
    "    return None"
   ]
  },
  {
   "cell_type": "code",
   "execution_count": 7,
   "id": "3182c94a-a496-42e1-b854-d6d106b7448d",
   "metadata": {},
   "outputs": [],
   "source": [
    "# getting the source from which the anime is adopted from\n",
    "\n",
    "def getSource(information):\n",
    "    for info in information:\n",
    "        if info[0] == \"Source:\":\n",
    "            return \" \".join(info[1:])\n",
    "    return None"
   ]
  },
  {
   "cell_type": "code",
   "execution_count": 8,
   "id": "f83a8033-30ef-4592-8ad9-025a9d3623ee",
   "metadata": {},
   "outputs": [],
   "source": [
    "# returns a list of genres that in the anime\n",
    "\n",
    "def getGenres(information):\n",
    "    for info in information:\n",
    "        if info[0] == \"Genres:\":\n",
    "            genres = \"\".join(info[1:])\n",
    "            return genres.split(\",\")\n",
    "    return None"
   ]
  },
  {
   "cell_type": "code",
   "execution_count": 9,
   "id": "0a583380-9519-4592-ac22-fedd26bd12ec",
   "metadata": {},
   "outputs": [],
   "source": [
    "# returns a list of studios that is sposoring this anime\n",
    "\n",
    "def getStudios(information):\n",
    "    for info in information:\n",
    "        if info[0] == \"Studios:\":\n",
    "            return \" \".join(info[1:])\n",
    "    return None"
   ]
  },
  {
   "cell_type": "code",
   "execution_count": 10,
   "id": "6d284138-b4dc-4088-b225-d033702429b7",
   "metadata": {
    "tags": []
   },
   "outputs": [],
   "source": [
    "# a list of companies that actually owns the license to this anime\n",
    "\n",
    "def getLicense(information):\n",
    "    for info in information:\n",
    "        if info[0] == \"Licensors:\":\n",
    "            if info[1] == \"None\":\n",
    "                return None\n",
    "            license = \"\".join(info[1:])\n",
    "            return license.split(\",\")\n",
    "    return None"
   ]
  },
  {
   "cell_type": "code",
   "execution_count": 11,
   "id": "0c8bad8d-5729-4b73-afcf-3ef501103d4a",
   "metadata": {},
   "outputs": [],
   "source": [
    "# gets the movie rating (pg-13 or R-+17 etc.)\n",
    "\n",
    "def getRating(information):\n",
    "    for info in information:\n",
    "        if info[0] == \"Rating:\":\n",
    "            return \"\".join(info[1:4])\n",
    "    return None"
   ]
  },
  {
   "cell_type": "markdown",
   "id": "a9b74a7f-c76e-4c83-9288-f4ef3c08d542",
   "metadata": {
    "tags": []
   },
   "source": [
    "#### How to find producers\n",
    "\n",
    "\n",
    "`finding_producers = soup2.find_all([\"div\",\"a\"], class_=[\"spaceit_pad\"])`\n",
    "\n",
    "first find the data using find producers code mentioned above:\n",
    "then enumerate the data that is found\n",
    "\n",
    "`for index, j in enumerate(div_and_a):\n",
    "    if finding_producers[index].text.split(\"\\n\")[1] == \"Producers:\":\n",
    "        print(finding_producers[index])`\n",
    "\n",
    "if the first index == \"Producers:\" then you get the index where you found \"Producers:\"\n",
    "\n",
    "using the index info:\n"
   ]
  },
  {
   "cell_type": "code",
   "execution_count": 12,
   "id": "0ef68907-04af-47dc-adae-0eef95118a81",
   "metadata": {},
   "outputs": [],
   "source": [
    "# div_and_a = soup2.find_all([\"div\",\"a\"], class_=[\"spaceit_pad\"])\n",
    "# get the name of companies that are financing this anime \n",
    "\n",
    "def producers_names(soup):\n",
    "    div_and_a = soup.find_all([\"div\",\"a\"], class_=[\"spaceit_pad\"])\n",
    "    for index, j in enumerate(div_and_a):\n",
    "        if div_and_a[index].text.split(\"\\n\")[1] == \"Producers:\":\n",
    "            res = re.sub(\" *\", \"\", div_and_a[index].text)\n",
    "            new_res = res.split(\"\\n\")\n",
    "            for i,j in enumerate(new_res):\n",
    "                if j == \"Producers:\":\n",
    "                    return new_res[i+1].split(\",\")\n",
    "                    break\n",
    "    return None"
   ]
  },
  {
   "cell_type": "code",
   "execution_count": 13,
   "id": "73ef9a2d-282e-47c0-859c-7f50b2ca45a6",
   "metadata": {},
   "outputs": [],
   "source": [
    "# get ranking information\n",
    "# soup is just a request\n",
    "\n",
    "def getRanking(soup):\n",
    "    ranking = soup.select_one(\".ranked strong\").text\n",
    "    data = ranking.split(\"#\")[1]\n",
    "    return int(data)"
   ]
  },
  {
   "cell_type": "code",
   "execution_count": 14,
   "id": "c32c4945-1aaf-4a0f-91ac-73485409e109",
   "metadata": {},
   "outputs": [],
   "source": [
    "# soup1.select_one(\".score-label\").text\n",
    "# Anime's score\n",
    "\n",
    "def getScore(soup):\n",
    "    data = float(soup.select_one(\".score-label\").text)\n",
    "    return data\n",
    "    "
   ]
  },
  {
   "cell_type": "code",
   "execution_count": 15,
   "id": "c0acbbe9-4931-4d71-ace8-902290b450c2",
   "metadata": {},
   "outputs": [],
   "source": [
    "# get popularity information\n",
    "# soup is just a request\n",
    "\n",
    "def getPopularity(soup):\n",
    "    popularity = soup.select_one(\".popularity strong\").text\n",
    "    data = popularity.split(\"#\")[1]\n",
    "    return int(data)"
   ]
  },
  {
   "cell_type": "code",
   "execution_count": 16,
   "id": "066e0d8d-087f-4789-a764-75f41a16dbd8",
   "metadata": {},
   "outputs": [],
   "source": [
    "# get members information\n",
    "# soup is just a request\n",
    "\n",
    "def getMembers(soup):\n",
    "    members = soup.select_one(\".members strong\").text\n",
    "    data = members.split(\",\")\n",
    "    return int(\"\".join(data))"
   ]
  },
  {
   "cell_type": "code",
   "execution_count": 17,
   "id": "2d82f3ff-e00c-4821-8968-701600463ee0",
   "metadata": {},
   "outputs": [],
   "source": [
    "# get the number of people who voted\n",
    "\n",
    "def votersCount(soup):\n",
    "    count = soup.select(\".js-statistics-info span\")\n",
    "    data = []\n",
    "    for i in count:\n",
    "        data.append(i.text)\n",
    "    if len(data) > 3:\n",
    "        return int(data[2])\n",
    "    return None"
   ]
  },
  {
   "cell_type": "code",
   "execution_count": 18,
   "id": "ff10573d-62cc-44a7-aa0d-c328a7fdd48e",
   "metadata": {},
   "outputs": [],
   "source": [
    "# links[1]+\"/characters\"\n",
    "# for this one soup should be links to character page which can be obtained by adding /characters at the end of the link\n",
    "\n",
    "def voiceActorsName(soup):\n",
    "    actorNames = []\n",
    "    names = soup.select(\".js-anime-character-va-lang .spaceit_pad a\")\n",
    "    for name in names:\n",
    "        data = \"\".join(name.text.split())\n",
    "        actorNames.append(data)\n",
    "    return actorNames"
   ]
  },
  {
   "cell_type": "code",
   "execution_count": 19,
   "id": "91fd8c6f-31e4-4e84-8cfe-52e040bc5afe",
   "metadata": {},
   "outputs": [],
   "source": [
    "# for this one soup should be links to character page which can be obtained by adding /characters at the end of the link\n",
    "\n",
    "def voiceActorsLanguage(soup):\n",
    "    languages = []\n",
    "    langNames = soup.select(\".js-anime-character-language\")\n",
    "    for language in langNames:\n",
    "        lang = \"\".join(language.text.split())\n",
    "        languages.append(lang)\n",
    "    return languages"
   ]
  },
  {
   "cell_type": "code",
   "execution_count": 20,
   "id": "a57c7d4f-58f0-455d-b7c3-4ea42a3412b4",
   "metadata": {},
   "outputs": [],
   "source": [
    "# this uses the voiceActorName and voiceActorsLanguage to make a data frame that wil append all the information related to the voice actors\n",
    "# using this information, we will divide the voiceActors based on their language. \n",
    "\n",
    "def voiceActorNameandLanguage(soup):\n",
    "    names = voiceActorsName(soup)\n",
    "    languages = voiceActorsLanguage(soup)\n",
    "    namesAndLang = []\n",
    "    for i in range(len(names)):\n",
    "        namesAndLang.append([names[i], languages[i]])\n",
    "    return namesAndLang"
   ]
  },
  {
   "cell_type": "code",
   "execution_count": 21,
   "id": "6cdd7a1e-f510-495e-abf0-5e376c014452",
   "metadata": {},
   "outputs": [],
   "source": [
    "# returns the roles of each employee\n",
    "\n",
    "def staffOccupation(soup):\n",
    "    data = []\n",
    "    for i in soup.select('td .js-scrollfix-bottom-rel .spaceit_pad small'):\n",
    "        data.append(\"\".join(i.text.split()))\n",
    "    return data"
   ]
  },
  {
   "cell_type": "code",
   "execution_count": 22,
   "id": "ef32ca0e-ec35-4749-a36a-837023703e94",
   "metadata": {},
   "outputs": [],
   "source": [
    "# returns the name of the employees\n",
    "# use links[i] + \"/character\"\n",
    "def staffName(soup):\n",
    "    \n",
    "    data = []\n",
    "    for i in soup.select('td .js-scrollfix-bottom-rel a'):\n",
    "        data.append(\"\".join(i.text.split()))\n",
    "    uncleanData = []\n",
    "    for index, info in enumerate(data):\n",
    "        if info == \"Addstaff\":\n",
    "            uncleanData.append(data[index+1:])\n",
    "            break\n",
    "    cleanData = []\n",
    "    for i in uncleanData:\n",
    "        for j in i:\n",
    "            if len(j) > 1:\n",
    "                cleanData.append(j)\n",
    "    return cleanData"
   ]
  },
  {
   "cell_type": "code",
   "execution_count": 23,
   "id": "3619dac9-dddd-4e05-b9f1-c1dc44a5863c",
   "metadata": {},
   "outputs": [],
   "source": [
    "def staffNameandOccupation(soup):\n",
    "    name = staffName(soup)\n",
    "    occupation = staffOccupation(soup)\n",
    "    nameAndOccupation = []\n",
    "    for i in range(len(name)):\n",
    "        nameAndOccupation.append([name[i], occupation[i]])\n",
    "    return nameAndOccupation"
   ]
  },
  {
   "cell_type": "code",
   "execution_count": 24,
   "id": "c8181d34-276f-4984-9ac3-6d0c4b8b7a9e",
   "metadata": {},
   "outputs": [],
   "source": [
    "# returns the name of the anime\n",
    "\n",
    "def animeName(soup):\n",
    "    name = soup.select_one(\".title-name\")\n",
    "    if len(name) > 1:\n",
    "        return name.text\n",
    "    return None"
   ]
  },
  {
   "cell_type": "markdown",
   "id": "42c793e4-70c5-4425-9e58-a7b608fb208a",
   "metadata": {},
   "source": [
    "https://myanimelist.net/topanime.php?type=airing&limit=100\n",
    "\n",
    "this makes it start from 101\n"
   ]
  },
  {
   "cell_type": "code",
   "execution_count": 25,
   "id": "b4a06ee8-cb56-4da0-b97c-c8494f0d7928",
   "metadata": {
    "tags": []
   },
   "outputs": [],
   "source": [
    "# request limit 19100\n",
    "# go through all the website and get the anime links\n",
    "\n",
    "# for limit in range(3050, 5951, 50): \n",
    "#     links = []\n",
    "#     url = f\"https://myanimelist.net/topanime.php?limit={limit}\"\n",
    "#     rq = requests.get(url)\n",
    "#     print(rq.status_code)\n",
    "#     soup = bs(rq.text, \"html.parser\")\n",
    "#     listsofA = soup.select(\".hoverinfo_trigger a\")\n",
    "#     for a in listsofA:\n",
    "#         links.append(a.get(\"href\"))\n",
    "#     file = open(f\"animeLinks{limit}.txt\", \"w\")\n",
    "#     for link in links:\n",
    "#         file.writelines(link+'\\n')\n",
    "#     file.close()\n",
    "#     time.sleep(10)"
   ]
  },
  {
   "cell_type": "code",
   "execution_count": null,
   "id": "e9f56e80-f94b-4a06-be41-c41252b7e2bd",
   "metadata": {
    "tags": []
   },
   "outputs": [
    {
     "name": "stdout",
     "output_type": "stream",
     "text": [
      "getting in\n",
      "getting in\n",
      "getting in\n"
     ]
    }
   ],
   "source": [
    "for limit in range(0, 5951, 50):\n",
    "    animeInfo = []\n",
    "    with open(f\"animeLinks{limit}.txt\", \"r\") as file:\n",
    "        links = file.readlines()\n",
    "    \n",
    "    print(\"getting in\")\n",
    "    for link in links:\n",
    "        rq = requests.get(link)\n",
    "        rq2 = requests.get(link[:-2] + \"/characters\")\n",
    "        soup = bs(rq.text, \"html.parser\")\n",
    "        soup2 = bs(rq2.text, \"html.parser\")\n",
    "        \n",
    "        information = dataFormatter(soup)\n",
    "        \n",
    "        animeInfo.append(dict(\n",
    "            name = animeName(soup),\n",
    "            producers = producers_names(soup),\n",
    "            ranking = getRanking(soup),\n",
    "            votersCount = votersCount(soup),\n",
    "            score = getScore(soup),\n",
    "            popularity = getPopularity(soup),\n",
    "            members = getMembers(soup),\n",
    "            favorite = getFavorite(information),\n",
    "            episodes = episodeNumberParser(information),\n",
    "            animeType = typeParser(information),\n",
    "            premiredDate = dayPremired(information),\n",
    "            animeSource = getSource(information),\n",
    "            genres = getGenres(information),\n",
    "            studios = getStudios(information),\n",
    "            licenses = getLicense(information),\n",
    "            rating = getRating(information),\n",
    "            voiceActorNameandLanguage = voiceActorNameandLanguage(soup2),\n",
    "            staffNameandOccupation = staffNameandOccupation(soup2)\n",
    "        ))\n",
    "        time.sleep(10)\n",
    "\n",
    "    with open(f\"animeInfo{limit}.txt\", 'w') as fout:\n",
    "        json.dump(animeInfo, fout)\n",
    "    time.sleep(10)"
   ]
  },
  {
   "cell_type": "code",
   "execution_count": 29,
   "id": "176e4fcd-7eb1-4d1b-b159-0182214ea31b",
   "metadata": {},
   "outputs": [],
   "source": [
    "# `json.loads`"
   ]
  },
  {
   "cell_type": "code",
   "execution_count": null,
   "id": "bd76781a-9bbd-4280-8dab-373e7ff88091",
   "metadata": {},
   "outputs": [],
   "source": []
  }
 ],
 "metadata": {
  "kernelspec": {
   "display_name": "Python 3 (ipykernel)",
   "language": "python",
   "name": "python3"
  },
  "language_info": {
   "codemirror_mode": {
    "name": "ipython",
    "version": 3
   },
   "file_extension": ".py",
   "mimetype": "text/x-python",
   "name": "python",
   "nbconvert_exporter": "python",
   "pygments_lexer": "ipython3",
   "version": "3.8.12"
  }
 },
 "nbformat": 4,
 "nbformat_minor": 5
}
