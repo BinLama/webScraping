{
 "cells": [
  {
   "cell_type": "code",
   "execution_count": 1,
   "id": "42d81f2c-ae0c-4165-994b-3dc37c79046b",
   "metadata": {},
   "outputs": [],
   "source": [
    "import pandas as pd\n",
    "import numpy as np\n",
    "import json"
   ]
  },
  {
   "cell_type": "code",
   "execution_count": null,
   "id": "f75e47a0-1407-4ec0-964e-80dcb29b9860",
   "metadata": {},
   "outputs": [],
   "source": [
    "# import data\n",
    "\n",
    "json.load"
   ]
  }
 ],
 "metadata": {
  "kernelspec": {
   "display_name": "Python 3 (ipykernel)",
   "language": "python",
   "name": "python3"
  },
  "language_info": {
   "codemirror_mode": {
    "name": "ipython",
    "version": 3
   },
   "file_extension": ".py",
   "mimetype": "text/x-python",
   "name": "python",
   "nbconvert_exporter": "python",
   "pygments_lexer": "ipython3",
   "version": "3.8.12"
  }
 },
 "nbformat": 4,
 "nbformat_minor": 5
}
